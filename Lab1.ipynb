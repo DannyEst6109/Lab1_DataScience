{
 "cells": [
  {
   "cell_type": "code",
   "execution_count": 2,
   "metadata": {},
   "outputs": [
    {
     "ename": "ModuleNotFoundError",
     "evalue": "No module named 'pandas'",
     "output_type": "error",
     "traceback": [
      "\u001b[1;31m---------------------------------------------------------------------------\u001b[0m",
      "\u001b[1;31mModuleNotFoundError\u001b[0m                       Traceback (most recent call last)",
      "Cell \u001b[1;32mIn[2], line 1\u001b[0m\n\u001b[1;32m----> 1\u001b[0m \u001b[38;5;28;01mimport\u001b[39;00m \u001b[38;5;21;01mpandas\u001b[39;00m \u001b[38;5;28;01mas\u001b[39;00m \u001b[38;5;21;01mpd\u001b[39;00m\n\u001b[0;32m      2\u001b[0m \u001b[38;5;28;01mimport\u001b[39;00m \u001b[38;5;21;01mnumpy\u001b[39;00m \u001b[38;5;28;01mas\u001b[39;00m \u001b[38;5;21;01mnp\u001b[39;00m\n\u001b[0;32m      3\u001b[0m \u001b[38;5;28;01mimport\u001b[39;00m \u001b[38;5;21;01mmatplotlib\u001b[39;00m\u001b[38;5;21;01m.\u001b[39;00m\u001b[38;5;21;01mpyplot\u001b[39;00m \u001b[38;5;28;01mas\u001b[39;00m \u001b[38;5;21;01mplt\u001b[39;00m\n",
      "\u001b[1;31mModuleNotFoundError\u001b[0m: No module named 'pandas'"
     ]
    }
   ],
   "source": [
    "import pandas as pd\n",
    "import numpy as np\n",
    "import matplotlib.pyplot as plt\n",
    "import seaborn as sns\n",
    "from sklearn.impute import SimpleImputer\n",
    "from sklearn.decomposition import PCA\n",
    "from sklearn.preprocessing import StandardScaler\n",
    "from scipy.stats import bartlett\n",
    "from factor_analyzer.factor_analyzer import calculate_kmo\n",
    "\n",
    "# Configuración de gráficos\n",
    "plt.style.use('ggplot')\n"
   ]
  },
  {
   "cell_type": "code",
   "execution_count": null,
   "metadata": {},
   "outputs": [],
   "source": [
    "# Descargar y cargar el dataset Cervical Cancer (Risk Factors)\n",
    "url = \"https://archive.ics.uci.edu/ml/machine-learning-databases/00383/risk_factors_cervical_cancer.csv\"\n",
    "df = pd.read_csv(url)\n"
   ]
  },
  {
   "cell_type": "code",
   "execution_count": null,
   "metadata": {},
   "outputs": [],
   "source": [
    "# Identificar tipos de variables\n",
    "for column in df.columns:\n",
    "    if df[column].dtype == 'object':\n",
    "        print(f'{column}: Cualitativa')\n",
    "    else:\n",
    "        print(f'{column}: Cuantitativa')\n"
   ]
  },
  {
   "cell_type": "code",
   "execution_count": null,
   "metadata": {},
   "outputs": [],
   "source": [
    "# Histogramas para variables numéricas\n",
    "df.hist(bins=50, figsize=(20, 15))\n",
    "plt.show()\n",
    "\n",
    "# Diagramas de cajas y bigotes para variables numéricas\n",
    "plt.figure(figsize=(20, 15))\n",
    "sns.boxplot(data=df.select_dtypes(include=[np.number]))\n",
    "plt.xticks(rotation=90)\n",
    "plt.show()"
   ]
  },
  {
   "cell_type": "code",
   "execution_count": null,
   "metadata": {},
   "outputs": [],
   "source": [
    "# Matriz de correlación\n",
    "corr_matrix = df.corr()\n",
    "print(corr_matrix)\n",
    "\n",
    "# Mapa de calor de la matriz de correlación\n",
    "plt.figure(figsize=(20, 15))\n",
    "sns.heatmap(corr_matrix, annot=True, cmap='coolwarm')\n",
    "plt.show()\n"
   ]
  },
  {
   "cell_type": "code",
   "execution_count": null,
   "metadata": {},
   "outputs": [],
   "source": [
    "# Matriz de correlación\n",
    "corr_matrix = df.corr()\n",
    "print(corr_matrix)\n",
    "\n",
    "# Mapa de calor de la matriz de correlación\n",
    "plt.figure(figsize=(20, 15))\n",
    "sns.heatmap(corr_matrix, annot=True, cmap='coolwarm')\n",
    "plt.show()\n"
   ]
  },
  {
   "cell_type": "code",
   "execution_count": null,
   "metadata": {},
   "outputs": [],
   "source": [
    "# Resumen de valores faltantes\n",
    "missing_values = df.isnull().sum()\n",
    "print(missing_values[missing_values > 0])\n",
    "\n",
    "# Imputación con la media para variables numéricas\n",
    "imputer_mean = SimpleImputer(strategy='mean')\n",
    "df_num = df.select_dtypes(include=[np.number])\n",
    "df_num_imputed = pd.DataFrame(imputer_mean.fit_transform(df_num), columns=df_num.columns)\n",
    "\n",
    "# Imputación con la moda para variables categóricas\n",
    "imputer_mode = SimpleImputer(strategy='most_frequent')\n",
    "df_cat = df.select_dtypes(exclude=[np.number])\n",
    "df_cat_imputed = pd.DataFrame(imputer_mode.fit_transform(df_cat), columns=df_cat.columns)\n",
    "\n",
    "# Combinar DataFrames\n",
    "df_imputed = pd.concat([df_num_imputed, df_cat_imputed], axis=1)\n"
   ]
  },
  {
   "cell_type": "code",
   "execution_count": null,
   "metadata": {},
   "outputs": [],
   "source": [
    "# Tablas de frecuencia para variables categóricas\n",
    "for column in df_cat.columns:\n",
    "    print(df[column].value_counts())\n",
    "\n",
    "# Gráficos de barras para variables categóricas\n",
    "plt.figure(figsize=(20, 15))\n",
    "for i, column in enumerate(df_cat.columns, 1):\n",
    "    plt.subplot(5, 4, i)\n",
    "    sns.countplot(data=df_cat, x=column)\n",
    "    plt.xticks(rotation=90)\n",
    "plt.show()\n"
   ]
  },
  {
   "cell_type": "code",
   "execution_count": null,
   "metadata": {},
   "outputs": [],
   "source": [
    "# Normalización de los datos numéricos\n",
    "scaler = StandardScaler()\n",
    "df_scaled = scaler.fit_transform(df_num_imputed)\n",
    "\n",
    "# Test de esfericidad de Bartlett\n",
    "chi_square_value, p_value = bartlett(*df_scaled.T)\n",
    "print(f'Test de esfericidad de Bartlett: chi-square={chi_square_value}, p-value={p_value}')\n",
    "\n",
    "# KMO (Kaiser-Meyer-Olkin) Test\n",
    "kmo_all, kmo_model = calculate_kmo(df_scaled)\n",
    "print(f'Índice KMO: {kmo_model}')\n",
    "\n",
    "# Realizar PCA\n",
    "pca = PCA(n_components=0.95)  # Retener el 95% de la varianza\n",
    "principal_components = pca.fit_transform(df_scaled)\n",
    "\n",
    "# Explicación de la varianza\n",
    "explained_variance = pca.explained_variance_ratio_\n",
    "print(f'Varianza explicada por cada componente: {explained_variance}')\n",
    "print(f'Varianza total explicada: {explained_variance.sum()}')\n"
   ]
  },
  {
   "cell_type": "code",
   "execution_count": null,
   "metadata": {},
   "outputs": [],
   "source": [
    "from mlxtend.frequent_patterns import apriori, association_rules\n",
    "\n",
    "# Convertir variables numéricas a categóricas para el algoritmo Apriori\n",
    "df_apriori = df_imputed.copy()\n",
    "for column in df_num.columns:\n",
    "    df_apriori[column] = pd.cut(df_apriori[column], bins=3, labels=['bajo', 'medio', 'alto'])\n",
    "\n",
    "# Obtener las frecuencias de los ítems\n",
    "frequent_itemsets = apriori(df_apriori, min_support=0.1, use_colnames=True)\n",
    "\n",
    "# Obtener reglas de asociación\n",
    "rules = association_rules(frequent_itemsets, metric=\"confidence\", min_threshold=0.7)\n",
    "print(rules)\n"
   ]
  },
  {
   "cell_type": "code",
   "execution_count": null,
   "metadata": {},
   "outputs": [],
   "source": [
    "# Guardar DataFrame limpio\n",
    "df_imputed.to_csv('cervical_cancer_cleaned.csv', index=False)\n",
    "\n",
    "# Crear un informe en PDF con los resultados y gráficos\n",
    "from fpdf import FPDF\n",
    "\n",
    "class PDF(FPDF):\n",
    "    def header(self):\n",
    "        self.set_font('Arial', 'B', 12)\n",
    "        self.cell(0, 10, 'Análisis Exploratorio y Limpieza de Datos', 0, 1, 'C')\n",
    "\n",
    "    def chapter_title(self, title):\n",
    "        self.set_font('Arial', 'B', 12)\n",
    "        self.cell(0, 10, title, 0, 1, 'L')\n",
    "        self.ln(10)\n",
    "\n",
    "    def chapter_body(self, body):\n",
    "        self.set_font('Arial', '', 12)\n",
    "        self.multi_cell(0, 10, body)\n",
    "        self.ln()\n",
    "\n",
    "pdf = PDF()\n",
    "pdf.add_page()\n",
    "\n",
    "pdf.chapter_title('Resumen de Estadísticas Descriptivas')\n",
    "pdf.chapter_body(df.describe().to_string())\n",
    "\n",
    "pdf.chapter_title('Matriz de Correlación')\n",
    "pdf.chapter_body(corr_matrix.to_string())\n",
    "\n",
    "# Guardar el PDF\n",
    "pdf.output('informe_analisis_exploratorio.pdf')\n"
   ]
  }
 ],
 "metadata": {
  "kernelspec": {
   "display_name": "Python 3",
   "language": "python",
   "name": "python3"
  },
  "language_info": {
   "codemirror_mode": {
    "name": "ipython",
    "version": 3
   },
   "file_extension": ".py",
   "mimetype": "text/x-python",
   "name": "python",
   "nbconvert_exporter": "python",
   "pygments_lexer": "ipython3",
   "version": "3.12.4"
  }
 },
 "nbformat": 4,
 "nbformat_minor": 2
}
